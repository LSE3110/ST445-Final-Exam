{
 "cells": [
  {
   "cell_type": "code",
   "execution_count": null,
   "metadata": {},
   "outputs": [],
   "source": [
    "#web scraping\n",
    "\n",
    "player_url = 'https://sofifa.com/player/'\n",
    "\n",
    "url = 'https://sofifa.com/player/177971'\n",
    "res = requests.get(url)\n",
    "soup = BeautifulSoup(res.content,'lxml')\n",
    "rows = soup.find('div', {'class': 'columns spacing'}).findAll('ul', {'class': 'pl'})\n",
    "for row in rows:\n",
    "    xs = soup.findAll('li')\n",
    "    print(xs)\n",
    "    for x in xs:\n",
    "        x.findAll\n",
    "        if(x.find('span class') != None):\n",
    "            label = x.find('span class').text\n",
    "            value = x.strip()\n",
    "            print(value)"
   ]
  },
  {
   "cell_type": "code",
   "execution_count": null,
   "metadata": {},
   "outputs": [],
   "source": [
    "#Web scraping for finding missing data\n",
    "detailed_columns = ['Preferred Foot', 'International Reputation', 'Weak Foot', 'Skill Moves', 'Work Rate', 'Body Type', 'Real Face', 'Position', 'Jersey Number', 'Joined', 'Contract Valid Until', 'LS', 'ST', 'RS', 'LW', 'LF', 'CF', 'RF', 'RW', 'LAM', 'CAM', 'RAM', 'LM', 'LCM', 'CM', 'RCM', 'RM', 'LWB', 'LDM', 'CDM', 'RDM', 'RWB', 'LB', 'LCB', 'CB', 'RCB', 'RB', 'Crossing', 'Finishing', 'HeadingAccuracy', 'ShortPassing', 'Volleys', 'Dribbling', 'Curve', 'FKAccuracy', 'LongPassing', 'BallControl', 'Acceleration', 'SprintSpeed', 'Agility', 'Reactions', 'Balance', 'ShotPower', 'Jumping', 'Stamina', 'Strength', 'LongShots', 'Aggression', 'Interceptions', 'Positioning', 'Vision', 'Penalties', 'Composure', 'Marking', 'StandingTackle', 'SlidingTackle', 'GKDiving', 'GKHandling', 'GKKicking', 'GKPositioning', 'GKReflexes', 'ID']\n",
    "detailed_data = pd.DataFrame(index = range(0, missing_data.count()[0]), columns = detailed_columns)\n",
    "detailed_data.ID = missing_data.ID.values\n",
    "\n",
    "player_data_url = 'https://sofifa.com/player/'\n",
    "for id in missing_data.ID:\n",
    "    url = player_data_url + str(id)\n",
    "    source_code = requests.get(url)\n",
    "    plain_text = source_code.text\n",
    "    soup = BeautifulSoup(plain_text, 'html.parser')\n",
    "    columns = soup.find('div', {'class': 'columns spacing'}).findAll('ul', {'class': 'pl'})\n",
    "    for column in columns:\n",
    "        skills = soup.findAll('li')\n",
    "        for skill in skills:\n",
    "            if(skill.find('label') != None):\n",
    "                label = skill.find('label').text\n",
    "                value = skill.text.replace(label, '').strip()\n",
    "                skill_map[label] = value\n",
    "    for key, value in skill_map.items():\n",
    "        detailed_data.loc[detailed_data.ID == id, key] = value"
   ]
  }
 ],
 "metadata": {
  "kernelspec": {
   "display_name": "Python 3",
   "language": "python",
   "name": "python3"
  },
  "language_info": {
   "codemirror_mode": {
    "name": "ipython",
    "version": 3
   },
   "file_extension": ".py",
   "mimetype": "text/x-python",
   "name": "python",
   "nbconvert_exporter": "python",
   "pygments_lexer": "ipython3",
   "version": "3.7.3"
  }
 },
 "nbformat": 4,
 "nbformat_minor": 2
}
